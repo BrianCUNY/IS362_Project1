{
 "cells": [
  {
   "cell_type": "code",
   "execution_count": 12,
   "metadata": {},
   "outputs": [],
   "source": [
    "import pandas as pd\n",
    "import numpy"
   ]
  },
  {
   "cell_type": "code",
   "execution_count": 13,
   "metadata": {},
   "outputs": [],
   "source": [
    "# Importing the created .CSV and labeling it's columns.\n",
    "data = pd.read_csv(r'C:\\Users\\brian\\OneDrive\\Documents\\arrivaldelays.csv', usecols=['Los Angeles', 'Phoenix', 'San Diego', 'San Francisco', 'Seattle'], encoding=\"utf-8\")"
   ]
  },
  {
   "cell_type": "code",
   "execution_count": 14,
   "metadata": {},
   "outputs": [
    {
     "name": "stdout",
     "output_type": "stream",
     "text": [
      "   Los Angeles  Phoenix  San Diego  San Francisco  Seattle\n",
      "0          497      221        212            503     1841\n",
      "1           62       12         20            102      305\n",
      "2          694     4840        383            320      201\n",
      "3          117      415         65            129       61\n"
     ]
    }
   ],
   "source": [
    "print(data)"
   ]
  },
  {
   "cell_type": "code",
   "execution_count": 25,
   "metadata": {},
   "outputs": [],
   "source": [
    "# Creating a DataFrame for the imported .CSV data.\n",
    "df = pd.DataFrame(data)"
   ]
  },
  {
   "cell_type": "code",
   "execution_count": 26,
   "metadata": {},
   "outputs": [],
   "source": [
    "# Unable to run sum calculations(INT) with Airlines(VARCHAR) included, ommitted \"Airlines\" to run calcs.\n",
    "# Creating a new DataFrame to summarize the mileage that will be appended to existing DF.\n",
    "# This df2 DataFrame will sumarize each airline's miles by row to include all cities.\n",
    "df2 = df.sum(axis=1)"
   ]
  },
  {
   "cell_type": "code",
   "execution_count": 28,
   "metadata": {},
   "outputs": [
    {
     "name": "stdout",
     "output_type": "stream",
     "text": [
      "0    3274\n",
      "1     501\n",
      "2    6438\n",
      "3     787\n",
      "dtype: int64\n"
     ]
    }
   ],
   "source": [
    "print(df2)"
   ]
  },
  {
   "cell_type": "code",
   "execution_count": 19,
   "metadata": {},
   "outputs": [
    {
     "name": "stdout",
     "output_type": "stream",
     "text": [
      "   Los Angeles  Phoenix  San Diego  San Francisco  Seattle\n",
      "0          497      221        212            503     1841\n",
      "1           62       12         20            102      305\n",
      "2          694     4840        383            320      201\n",
      "3          117      415         65            129       61\n"
     ]
    }
   ],
   "source": [
    "print(df)"
   ]
  },
  {
   "cell_type": "code",
   "execution_count": 8,
   "metadata": {},
   "outputs": [],
   "source": [
    "# Inserting omitted columns to DataFrame\n",
    "df.insert(0, \"Airline\", ['Alaska on time', 'Alaska delayed','AM West on time', 'AM West delayed'])"
   ]
  },
  {
   "cell_type": "code",
   "execution_count": 30,
   "metadata": {},
   "outputs": [],
   "source": [
    "# Adding a Sum column for summarized totals\n",
    "df['Sum'] = df2"
   ]
  },
  {
   "cell_type": "code",
   "execution_count": 31,
   "metadata": {},
   "outputs": [
    {
     "name": "stdout",
     "output_type": "stream",
     "text": [
      "           Airline  Los Angeles  Phoenix  San Diego  San Francisco  Seattle  \\\n",
      "0   Alaska on time          497      221        212            503     1841   \n",
      "1   Alaska delayed           62       12         20            102      305   \n",
      "2  AM West on time          694     4840        383            320      201   \n",
      "3  AM West delayed          117      415         65            129       61   \n",
      "\n",
      "    Sum  \n",
      "0  3274  \n",
      "1   501  \n",
      "2  6438  \n",
      "3   787  \n"
     ]
    }
   ],
   "source": [
    "print(df)"
   ]
  },
  {
   "cell_type": "code",
   "execution_count": null,
   "metadata": {},
   "outputs": [],
   "source": [
    "# Would usually export for reporting purposes: df.to_excel(\"mileagesummary.xlsx\")"
   ]
  }
 ],
 "metadata": {
  "kernelspec": {
   "display_name": "Python 3",
   "language": "python",
   "name": "python3"
  },
  "language_info": {
   "codemirror_mode": {
    "name": "ipython",
    "version": 3
   },
   "file_extension": ".py",
   "mimetype": "text/x-python",
   "name": "python",
   "nbconvert_exporter": "python",
   "pygments_lexer": "ipython3",
   "version": "3.8.5"
  }
 },
 "nbformat": 4,
 "nbformat_minor": 4
}
